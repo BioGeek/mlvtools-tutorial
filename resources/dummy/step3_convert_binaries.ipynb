{
 "cells": [
  {
   "cell_type": "markdown",
   "metadata": {},
   "source": [
    "# Dummy pipeline - step 3: convert binary Ascii code to character"
   ]
  },
  {
   "cell_type": "markdown",
   "metadata": {},
   "source": [
    "This step convert an Ascii binary value to the corresponding character."
   ]
  },
  {
   "cell_type": "code",
   "execution_count": null,
   "metadata": {},
   "outputs": [],
   "source": [
    "# Parameters\n",
    "\"\"\"\n",
    ":param str binary_data: path to binary data input file\n",
    ":param str char_from_bin: path to converted data from binary output file\n",
    ":dvc-cmd: dvc run -f $MLV_DVC_META_FILENAME -d ./dummy/data/binary_data.txt \n",
    "                                            -o ./dummy/data/data_conv_from_bin.txt\n",
    "        $MLV_PY_CMD_PATH --binary-data ./dummy/data/binary_data.txt\n",
    "                         --char-from-bin ./dummy/data/data_conv_from_bin.txt\n",
    "\"\"\"\n",
    "# Value of parameters for this Jupyter Notebook only\n",
    "# the notebook is in ./dummy/pipeline/notebooks\n",
    "binary_data = '../../data/binary_data.txt'\n",
    "char_from_bin = '../../data/data_conv_from_bin.txt'"
   ]
  },
  {
   "cell_type": "markdown",
   "metadata": {},
   "source": [
    "> In this case  we use **dvc-cmd** instead of **dvc-in** and **dvc-out** but it is just to show it is possible if needed. However it is not recommended due to the verbosity and the risk of error\n",
    "\n",
    "With **dvc-in** and **dvc-out**:\n",
    "\n",
    "    \"\"\" \n",
    "    :param str binary_data: path to binary data input file\n",
    "    :param str char_from_bin: path to converted data from binary output file\n",
    "    :dvc-in binary_data: ./dummy/data/binary_data.txt\n",
    "    :dvc-out char_from_bin : ./dummy/data/data_conv_from_bin.txt\n",
    "    \"\"\""
   ]
  },
  {
   "cell_type": "code",
   "execution_count": null,
   "metadata": {},
   "outputs": [],
   "source": [
    "with open(binary_data, 'r') as fd:\n",
    "    data = fd.read()"
   ]
  },
  {
   "cell_type": "code",
   "execution_count": null,
   "metadata": {},
   "outputs": [],
   "source": [
    "characters = [f\"{d.split('=')[0]}={chr(int(d.split('=')[1], 2))}\" for d in data.split()]"
   ]
  },
  {
   "cell_type": "code",
   "execution_count": null,
   "metadata": {},
   "outputs": [],
   "source": [
    "with open(char_from_bin, 'w') as fd:\n",
    "    fd.write(' '.join(characters))"
   ]
  },
  {
   "cell_type": "code",
   "execution_count": null,
   "metadata": {},
   "outputs": [],
   "source": [
    "# No effect\n",
    "print(characters)"
   ]
  }
 ],
 "metadata": {
  "kernelspec": {
   "display_name": "Python 3",
   "language": "python",
   "name": "python3"
  },
  "language_info": {
   "codemirror_mode": {
    "name": "ipython",
    "version": 3
   },
   "file_extension": ".py",
   "mimetype": "text/x-python",
   "name": "python",
   "nbconvert_exporter": "python",
   "pygments_lexer": "ipython3",
   "version": "3.6.5"
  }
 },
 "nbformat": 4,
 "nbformat_minor": 2
}
