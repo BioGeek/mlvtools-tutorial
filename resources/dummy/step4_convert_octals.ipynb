{
 "cells": [
  {
   "cell_type": "markdown",
   "metadata": {},
   "source": [
    "# Dummy pipeline - step 4: convert octal Ascii code to character"
   ]
  },
  {
   "cell_type": "markdown",
   "metadata": {},
   "source": [
    "This step convert an Ascii octal value to the corresponding character."
   ]
  },
  {
   "cell_type": "code",
   "execution_count": null,
   "metadata": {},
   "outputs": [],
   "source": [
    "# Parameters\n",
    "\"\"\"\n",
    ":param str octal_data: path to octal data input file\n",
    ":param str char_from_octal: path to converted data from octal output file\n",
    ":dvc-in octal_data: ./dummy/data/octal_data.txt\n",
    ":dvc-out char_from_octal : ./dummy/data/data_conv_from_octal.txt\n",
    "\"\"\"\n",
    "# Value of parameters for this Jupyter Notebook only\n",
    "# the notebook is in ./dummy/pipeline/notebooks\n",
    "octal_data = '../../data/octal_data.txt'\n",
    "char_from_octal = '../../data/data_conv_from_octal.txt'"
   ]
  },
  {
   "cell_type": "code",
   "execution_count": null,
   "metadata": {},
   "outputs": [],
   "source": [
    "with open(octal_data, 'r') as fd:\n",
    "    data = fd.read()"
   ]
  },
  {
   "cell_type": "code",
   "execution_count": null,
   "metadata": {},
   "outputs": [],
   "source": [
    "characters = [f\"{d.split('=')[0]}={chr(int(d.split('=')[1], 8))}\" for d in data.split()]"
   ]
  },
  {
   "cell_type": "code",
   "execution_count": null,
   "metadata": {},
   "outputs": [],
   "source": [
    "with open(char_from_octal, 'w') as fd:\n",
    "    fd.write(' '.join(characters))"
   ]
  },
  {
   "cell_type": "code",
   "execution_count": null,
   "metadata": {},
   "outputs": [],
   "source": [
    "# No effect\n",
    "print(characters)"
   ]
  }
 ],
 "metadata": {
  "kernelspec": {
   "display_name": "Python 3",
   "language": "python",
   "name": "python3"
  },
  "language_info": {
   "codemirror_mode": {
    "name": "ipython",
    "version": 3
   },
   "file_extension": ".py",
   "mimetype": "text/x-python",
   "name": "python",
   "nbconvert_exporter": "python",
   "pygments_lexer": "ipython3",
   "version": "3.6.5"
  }
 },
 "nbformat": 4,
 "nbformat_minor": 2
}
