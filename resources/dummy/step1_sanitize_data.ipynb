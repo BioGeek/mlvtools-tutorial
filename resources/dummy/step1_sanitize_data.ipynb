{
 "cells": [
  {
   "cell_type": "markdown",
   "metadata": {},
   "source": [
    "# Dummy pipeline - step 1: sanitize data"
   ]
  },
  {
   "cell_type": "markdown",
   "metadata": {},
   "source": [
    "This step extracts a text from an input file then remove not supported characters."
   ]
  },
  {
   "cell_type": "code",
   "execution_count": null,
   "metadata": {},
   "outputs": [],
   "source": [
    "# Parameters\n",
    "\"\"\"\n",
    ":param str input_data: path to input file\n",
    ":param str sanitized_data: path to the output file\n",
    ":dvc-in input_data: ./dummy/data/dummy_pipeline_feed.txt\n",
    ":dvc-out sanitized_data : ./dummy/data/sanitized_data.txt\n",
    "\"\"\"\n",
    "# Value of parameters for this Jupyter Notebook only\n",
    "# the notebook is in ./dummy/pipeline/notebooks\n",
    "input_data = '../../data/dummy_pipeline_feed.txt'\n",
    "sanitized_data = '../../data/sanitized_data.txt'"
   ]
  },
  {
   "cell_type": "code",
   "execution_count": null,
   "metadata": {},
   "outputs": [],
   "source": [
    "with open(input_data, 'r') as fd:\n",
    "    data = fd.read().strip('\\n')"
   ]
  },
  {
   "cell_type": "code",
   "execution_count": null,
   "metadata": {},
   "outputs": [],
   "source": [
    "import re\n",
    "data = re.sub('[^0-9=\\s]', '', data)"
   ]
  },
  {
   "cell_type": "code",
   "execution_count": null,
   "metadata": {},
   "outputs": [],
   "source": [
    "with open(sanitized_data, 'w') as fd:\n",
    "    fd.write(data)"
   ]
  },
  {
   "cell_type": "code",
   "execution_count": null,
   "metadata": {},
   "outputs": [],
   "source": [
    "# No effect \n",
    "\"\"\"\n",
    "Cells with \"# No effect\" comment will be ignore for the Python 3 script generation.\n",
    "They are used to see intermediate results only in notebooks\n",
    "\"\"\"\n",
    "# check result\n",
    "print(data)"
   ]
  },
  {
   "cell_type": "code",
   "execution_count": null,
   "metadata": {},
   "outputs": [],
   "source": []
  }
 ],
 "metadata": {
  "kernelspec": {
   "display_name": "Python 3",
   "language": "python",
   "name": "python3"
  },
  "language_info": {
   "codemirror_mode": {
    "name": "ipython",
    "version": 3
   },
   "file_extension": ".py",
   "mimetype": "text/x-python",
   "name": "python",
   "nbconvert_exporter": "python",
   "pygments_lexer": "ipython3",
   "version": "3.6.5"
  }
 },
 "nbformat": 4,
 "nbformat_minor": 2
}
