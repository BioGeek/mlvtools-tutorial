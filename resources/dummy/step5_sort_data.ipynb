{
 "cells": [
  {
   "cell_type": "markdown",
   "metadata": {},
   "source": [
    "# Dummy pipeline - step 5: merge and sort elements"
   ]
  },
  {
   "cell_type": "markdown",
   "metadata": {},
   "source": [
    "This step merge result of conversion from octal and binary files and sorts results and then writes them into an output file.\n",
    "\n",
    "Input formats:\n",
    "\n",
    "        ([index]:[value])(\\s[index]:[value])*\n",
    "        3:A 5:T 2:r ...\n",
    "               \n",
    "It also log some metrics using **MLflow tracking**."
   ]
  },
  {
   "cell_type": "code",
   "execution_count": null,
   "metadata": {},
   "outputs": [],
   "source": [
    "# Parameters\n",
    "\"\"\"\n",
    ":param str char_from_bin: path to converted data from binary input file\n",
    ":param str char_from_octal: path to converted data from octal input file\n",
    ":param str result_file: path to the result output file\n",
    ":param str mlflow_output: mlflow tracking output directory\n",
    ":dvc-in char_from_bin:  ./dummy/data/data_conv_from_bin.txt\n",
    ":dvc-in char_from_octal:  ./dummy/data/data_conv_from_octal.txt\n",
    ":dvc-out result_file : ./dummy/data/result.txt\n",
    ":dvc-out mlflow_output: ./dummy/data/mlflow\n",
    "\"\"\"\n",
    "# Value of parameters for this Jupyter Notebook only\n",
    "# the notebook is in ./dummy/pipeline/notebooks\n",
    "char_from_bin = '../../data/data_conv_from_bin.txt'\n",
    "char_from_octal = '../../data/data_conv_from_octal.txt'\n",
    "result_file = '../../data/result.txt'\n",
    "mlflow_output = '../../data/mlflow'"
   ]
  },
  {
   "cell_type": "code",
   "execution_count": null,
   "metadata": {},
   "outputs": [],
   "source": [
    "with open(char_from_bin, 'r') as fd:\n",
    "    data = [value for value in fd.read().split()]   "
   ]
  },
  {
   "cell_type": "code",
   "execution_count": null,
   "metadata": {},
   "outputs": [],
   "source": [
    "with open(char_from_octal, 'r') as fd:\n",
    "    data += [value for value in fd.read().split()]  "
   ]
  },
  {
   "cell_type": "code",
   "execution_count": null,
   "metadata": {},
   "outputs": [],
   "source": [
    "results = [d.split('=')[1] if d.split('=')[1] else ' '  for d in sorted(data, key=lambda d: int(d.split('=')[0]))]"
   ]
  },
  {
   "cell_type": "code",
   "execution_count": null,
   "metadata": {},
   "outputs": [],
   "source": [
    "\"\"\"\n",
    "MLflow section \n",
    "\n",
    "Not useful in this case, it is just a dummy usage to show how it works\n",
    "For selected slices of data we want to count some letter occurences\n",
    "\n",
    "First we should set the output main directory using mlflow.set_tracking_uri\n",
    "\n",
    "Then we want to log metrics according to parameters for each run\n",
    "    start a run: mlflow.start_run\n",
    "    parameters:  mlflow.log_param\n",
    "    metrics:     mlflow.log_metric\n",
    "\"\"\"\n",
    "from collections import Counter\n",
    "import mlflow\n",
    "import itertools\n",
    "# Set ouput directory \n",
    "mlflow.set_tracking_uri(mlflow_output)\n",
    "\n",
    "# For each slice of data we will inspect we want to log\n",
    "# metrics about letters occurences according to the slice size and the starting index\n",
    "for slice_size, start_idx in itertools.product((20, 50, 70), (0, len(results) // 2)):\n",
    "     with mlflow.start_run():\n",
    "        # Log run parameters\n",
    "        mlflow.log_param('slice_size', slice_size)\n",
    "        mlflow.log_param('start_index', start_idx)\n",
    "        \n",
    "        extract = results[start_idx : start_idx + slice_size]\n",
    "        occurences = Counter(extract)\n",
    "        \n",
    "        # Log run metrics for given parameters\n",
    "        mlflow.log_metric('nb_a', occurences.get('a', 0))\n",
    "        mlflow.log_metric('nb_e', occurences.get('e', 0))\n",
    "        mlflow.log_metric('nb_letter_present_more_than_8', sum([v for k, v in occurences.items() if v >= 8]))"
   ]
  },
  {
   "cell_type": "code",
   "execution_count": null,
   "metadata": {},
   "outputs": [],
   "source": [
    "with open(result_file, 'w') as fd:\n",
    "    fd.write(''.join(results))\n",
    "    fd.write('\\n')"
   ]
  },
  {
   "cell_type": "code",
   "execution_count": null,
   "metadata": {},
   "outputs": [],
   "source": [
    "# No effect\n",
    "print(''.join(results))"
   ]
  },
  {
   "cell_type": "code",
   "execution_count": null,
   "metadata": {},
   "outputs": [],
   "source": []
  }
 ],
 "metadata": {
  "kernelspec": {
   "display_name": "Python 3",
   "language": "python",
   "name": "python3"
  },
  "language_info": {
   "codemirror_mode": {
    "name": "ipython",
    "version": 3
   },
   "file_extension": ".py",
   "mimetype": "text/x-python",
   "name": "python",
   "nbconvert_exporter": "python",
   "pygments_lexer": "ipython3",
   "version": "3.6.5"
  }
 },
 "nbformat": 4,
 "nbformat_minor": 2
}
